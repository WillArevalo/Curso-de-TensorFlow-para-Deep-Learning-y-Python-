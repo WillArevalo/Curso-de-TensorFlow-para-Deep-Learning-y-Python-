{
  "nbformat": 4,
  "nbformat_minor": 0,
  "metadata": {
    "colab": {
      "name": "Regresion lineal simple.ipynb",
      "provenance": []
    },
    "kernelspec": {
      "name": "python3",
      "display_name": "Python 3"
    }
  },
  "cells": [
    {
      "cell_type": "markdown",
      "metadata": {
        "id": "OowBhcIiuwcC",
        "colab_type": "text"
      },
      "source": [
        "Ejemplo de regresion con TF"
      ]
    },
    {
      "cell_type": "code",
      "metadata": {
        "id": "wlzndWMquvSF",
        "colab_type": "code",
        "outputId": "467c384c-edaa-44f2-fbb7-790b7ff544c6",
        "colab": {
          "base_uri": "https://localhost:8080/",
          "height": 102
        }
      },
      "source": [
        "# Importaciones\n",
        "import tensorflow as tf\n",
        "import numpy as np\n",
        "import pandas as pd\n",
        "import matplotlib.pyplot as plt\n",
        "\n",
        "print(\"Versions:\\n\"+\"tf: \"+tf.__version__+\"\\nnp: \"+np.__version__+\"\\npd: \"+pd.__version__+\"\\n\")"
      ],
      "execution_count": 0,
      "outputs": [
        {
          "output_type": "stream",
          "text": [
            "Versions:\n",
            "tf: 1.15.0\n",
            "np: 1.17.5\n",
            "pd: 0.25.3\n",
            "\n"
          ],
          "name": "stdout"
        }
      ]
    },
    {
      "cell_type": "markdown",
      "metadata": {
        "id": "kOR9Qgb1wv87",
        "colab_type": "text"
      },
      "source": [
        "Creacion de datos"
      ]
    },
    {
      "cell_type": "code",
      "metadata": {
        "id": "nSTxnif4vEV-",
        "colab_type": "code",
        "outputId": "7e58864c-6b15-4a04-d6b0-3d8087241d27",
        "colab": {
          "base_uri": "https://localhost:8080/",
          "height": 51
        }
      },
      "source": [
        "datos_x = np.linspace(0,10,10) + np.random.uniform(-1,1,10)\n",
        "datos_x"
      ],
      "execution_count": 0,
      "outputs": [
        {
          "output_type": "execute_result",
          "data": {
            "text/plain": [
              "array([0.80678757, 0.35672982, 2.85880611, 3.49166705, 4.3805105 ,\n",
              "       6.13159577, 6.32644356, 7.87331994, 9.81955761, 9.57767169])"
            ]
          },
          "metadata": {
            "tags": []
          },
          "execution_count": 19
        }
      ]
    },
    {
      "cell_type": "code",
      "metadata": {
        "id": "xDVFRDXSwjX0",
        "colab_type": "code",
        "outputId": "1598741c-e453-44cf-a037-7fc71cb9d87e",
        "colab": {
          "base_uri": "https://localhost:8080/",
          "height": 51
        }
      },
      "source": [
        "datos_y = np.linspace(0,10,10) + np.random.uniform(-1,1,10)\n",
        "datos_y"
      ],
      "execution_count": 0,
      "outputs": [
        {
          "output_type": "execute_result",
          "data": {
            "text/plain": [
              "array([0.13931704, 0.60948178, 3.03878232, 2.5844078 , 3.99939937,\n",
              "       6.39167825, 6.37438713, 7.11190587, 9.41761008, 9.69702036])"
            ]
          },
          "metadata": {
            "tags": []
          },
          "execution_count": 20
        }
      ]
    },
    {
      "cell_type": "code",
      "metadata": {
        "id": "iS4bIYemwqp9",
        "colab_type": "code",
        "outputId": "1a7a21d2-cdcc-4f34-fc3d-d4f25b07b4cb",
        "colab": {
          "base_uri": "https://localhost:8080/",
          "height": 283
        }
      },
      "source": [
        "plt.plot(datos_x,datos_y,\"*\")"
      ],
      "execution_count": 0,
      "outputs": [
        {
          "output_type": "execute_result",
          "data": {
            "text/plain": [
              "[<matplotlib.lines.Line2D at 0x7ff5476c3358>]"
            ]
          },
          "metadata": {
            "tags": []
          },
          "execution_count": 21
        },
        {
          "output_type": "display_data",
          "data": {
            "image/png": "[encoded data removed]",
            "text/plain": [
              "<Figure size 432x288 with 1 Axes>"
            ]
          },
          "metadata": {
            "tags": []
          }
        }
      ]
    },
    {
      "cell_type": "markdown",
      "metadata": {
        "id": "0BsKwi23xm85",
        "colab_type": "text"
      },
      "source": [
        "y = mx + b"
      ]
    },
    {
      "cell_type": "code",
      "metadata": {
        "id": "slEaRh4pxEzQ",
        "colab_type": "code",
        "outputId": "76489f53-c8d0-4ad1-f9d4-8e661967c8ff",
        "colab": {
          "base_uri": "https://localhost:8080/",
          "height": 34
        }
      },
      "source": [
        "np.random.rand(2)"
      ],
      "execution_count": 0,
      "outputs": [
        {
          "output_type": "execute_result",
          "data": {
            "text/plain": [
              "array([0.18525643, 0.76004777])"
            ]
          },
          "metadata": {
            "tags": []
          },
          "execution_count": 22
        }
      ]
    },
    {
      "cell_type": "code",
      "metadata": {
        "id": "9OZD4X9GxtvJ",
        "colab_type": "code",
        "colab": {}
      },
      "source": [
        "m = tf.Variable(0.18)\n",
        "b = tf.Variable(0.99)"
      ],
      "execution_count": 0,
      "outputs": []
    },
    {
      "cell_type": "code",
      "metadata": {
        "id": "J06_d9qOy8lk",
        "colab_type": "code",
        "colab": {}
      },
      "source": [
        "error = 0\n",
        "for x,y in zip(datos_x, datos_y):\n",
        "  y_pred = m*x + b\n",
        "  error = error + (y - y_pred)**2 "
      ],
      "execution_count": 0,
      "outputs": []
    },
    {
      "cell_type": "code",
      "metadata": {
        "id": "9I2GV1Ngzk6e",
        "colab_type": "code",
        "colab": {}
      },
      "source": [
        "opti = tf.train.GradientDescentOptimizer(learning_rate=0.001)\n",
        "train = opti.minimize(error)"
      ],
      "execution_count": 0,
      "outputs": []
    },
    {
      "cell_type": "code",
      "metadata": {
        "id": "cCh6aG7cz16T",
        "colab_type": "code",
        "colab": {}
      },
      "source": [
        "initialize = tf.global_variables_initializer()"
      ],
      "execution_count": 0,
      "outputs": []
    },
    {
      "cell_type": "code",
      "metadata": {
        "id": "PIcUgKVC0Awl",
        "colab_type": "code",
        "colab": {}
      },
      "source": [
        "with tf.Session() as ses:\n",
        "  ses.run(initialize)\n",
        "  steps = 2000\n",
        "  for i in range(steps):\n",
        "    ses.run(train)\n",
        "  final_m, final_b = ses.run([m,b])"
      ],
      "execution_count": 0,
      "outputs": []
    },
    {
      "cell_type": "code",
      "metadata": {
        "id": "6CzATMw_0-E2",
        "colab_type": "code",
        "colab": {}
      },
      "source": [
        "x_test = np.linspace(-1,11,10)"
      ],
      "execution_count": 0,
      "outputs": []
    },
    {
      "cell_type": "code",
      "metadata": {
        "id": "ajxfjRLO1iRW",
        "colab_type": "code",
        "colab": {}
      },
      "source": [
        "y_pred2 = (final_m * x_test) + final_b"
      ],
      "execution_count": 0,
      "outputs": []
    },
    {
      "cell_type": "code",
      "metadata": {
        "id": "dZDvNJHA13GR",
        "colab_type": "code",
        "outputId": "e2acb1c8-5ef7-4ef9-971b-0f508def947e",
        "colab": {
          "base_uri": "https://localhost:8080/",
          "height": 282
        }
      },
      "source": [
        "plt.plot(x_test, y_pred2, 'o-')\n",
        "plt.plot(datos_x, datos_y, '*')"
      ],
      "execution_count": 0,
      "outputs": [
        {
          "output_type": "execute_result",
          "data": {
            "text/plain": [
              "[<matplotlib.lines.Line2D at 0x7ff5408036a0>]"
            ]
          },
          "metadata": {
            "tags": []
          },
          "execution_count": 30
        },
        {
          "output_type": "display_data",
          "data": {
            "image/png": "[encoded data removed]",
            "text/plain": [
              "<Figure size 432x288 with 1 Axes>"
            ]
          },
          "metadata": {
            "tags": []
          }
        }
      ]
    },
    {
      "cell_type": "code",
      "metadata": {
        "id": "IgvlZtYb2Jxf",
        "colab_type": "code",
        "colab": {}
      },
      "source": [
        ""
      ],
      "execution_count": 0,
      "outputs": []
    }
  ]
}